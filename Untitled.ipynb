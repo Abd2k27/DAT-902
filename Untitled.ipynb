{
 "cells": [
  {
   "cell_type": "code",
   "execution_count": 1,
   "id": "d3f60081-5651-47ad-b387-e448a55ab3a1",
   "metadata": {},
   "outputs": [
    {
     "name": "stdout",
     "output_type": "stream",
     "text": [
      "     Rang N° du dép. Nom du département  Nombre de communes[1]  \\\n",
      "0       1         62      Pas-de-Calais                    895   \n",
      "1       2         02              Aisne                    816   \n",
      "2       3         80              Somme                    782   \n",
      "3       4         76     Seine-Maritime                    745   \n",
      "4       5         57            Moselle                    730   \n",
      "..    ...        ...                ...                    ...   \n",
      "96     97        971         Guadeloupe                     32   \n",
      "97     98        974            Réunion                     24   \n",
      "98     99        973             Guyane                     22   \n",
      "99    100        976         Mayotte[4]                     17   \n",
      "100   101         75              Paris                      1   \n",
      "\n",
      "    Population municipale en 2011[2],[3] Moyenne d'habitants par commune  \n",
      "0                              1 462 807                           1 634  \n",
      "1                                541 302                             663  \n",
      "2                                571 211                             730  \n",
      "3                              1 251 282                           1 680  \n",
      "4                              1 045 146                           1 432  \n",
      "..                                   ...                             ...  \n",
      "96                               404 635                          12 645  \n",
      "97                               828 581                          34 524  \n",
      "98                               237 549                          10 798  \n",
      "99                               212 645                          12 509  \n",
      "100                            2 249 975                       2 249 975  \n",
      "\n",
      "[101 rows x 6 columns]\n",
      "Le tableau a été sauvegardé dans le fichier communnesParDépartement.csv\n"
     ]
    },
    {
     "name": "stderr",
     "output_type": "stream",
     "text": [
      "/var/folders/0r/gmvsy4qj175cs_tlz94q3kth0000gn/T/ipykernel_45040/385227457.py:19: FutureWarning: Passing literal html to 'read_html' is deprecated and will be removed in a future version. To read from a literal string, wrap it in a 'StringIO' object.\n",
      "  df = pd.read_html(str(table))[0]\n"
     ]
    }
   ],
   "source": [
    "import pandas as pd\n",
    "import requests\n",
    "from bs4 import BeautifulSoup\n",
    "\n",
    "# URL de la page Wikipedia contenant le tableau\n",
    "url = \"https://fr.wikipedia.org/wiki/Nombre_de_communes_par_d%C3%A9partement_en_France_au_1er_janvier_2014\"\n",
    "\n",
    "# Envoyer une requête pour obtenir le contenu de la page\n",
    "response = requests.get(url)\n",
    "soup = BeautifulSoup(response.content, 'html.parser')\n",
    "\n",
    "# Trouver tous les tableaux de la page\n",
    "tables = soup.find_all('table', {'class': 'wikitable'})\n",
    "\n",
    "# Si vous savez quel tableau vous voulez (ex: le premier tableau)\n",
    "table = tables[0]\n",
    "\n",
    "# Utiliser pandas pour lire le tableau HTML en DataFrame\n",
    "df = pd.read_html(str(table))[0]\n",
    "\n",
    "\n",
    "# Afficher le DataFrame\n",
    "print(df)\n",
    "\n",
    "# Sauvegarder le DataFrame dans un fichier CSV\n",
    "csv_filename = \"communnesParDépartement.csv\"\n",
    "df.to_csv(csv_filename, index=False)\n",
    "\n",
    "print(f\"Le tableau a été sauvegardé dans le fichier {csv_filename}\")"
   ]
  },
  {
   "cell_type": "code",
   "execution_count": null,
   "id": "405af8f5-be30-4e49-8ea6-58946cc11435",
   "metadata": {},
   "outputs": [],
   "source": []
  }
 ],
 "metadata": {
  "kernelspec": {
   "display_name": "Python 3 (ipykernel)",
   "language": "python",
   "name": "python3"
  },
  "language_info": {
   "codemirror_mode": {
    "name": "ipython",
    "version": 3
   },
   "file_extension": ".py",
   "mimetype": "text/x-python",
   "name": "python",
   "nbconvert_exporter": "python",
   "pygments_lexer": "ipython3",
   "version": "3.10.12"
  }
 },
 "nbformat": 4,
 "nbformat_minor": 5
}
